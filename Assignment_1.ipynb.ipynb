{
 "cells": [
  {
   "cell_type": "code",
   "execution_count": 31,
   "metadata": {},
   "outputs": [],
   "source": [
    "import numpy as np\n",
    "from PIL import Image"
   ]
  },
  {
   "cell_type": "code",
   "execution_count": 2,
   "metadata": {},
   "outputs": [
    {
     "name": "stdout",
     "output_type": "stream",
     "text": [
      "Original Array: [1 2 3 6 4 5]\n",
      "Reversed Array: [5 4 6 3 2 1]\n"
     ]
    }
   ],
   "source": [
    "# Reverse the NumPy array: arr = np.array([1, 2, 3, 6, 4, 5])\n",
    "arr = np.array([1, 2, 3, 6, 4, 5])\n",
    "print(\"Original Array:\", arr)\n",
    "print(\"Reversed Array:\", arr[::-1])"
   ]
  },
  {
   "cell_type": "code",
   "execution_count": 3,
   "metadata": {},
   "outputs": [
    {
     "name": "stdout",
     "output_type": "stream",
     "text": [
      "Original array:\n",
      "[[1 2 3]\n",
      " [2 4 5]\n",
      " [1 2 3]]\n",
      "Flatten the array:\n",
      "[1 2 3 2 4 5 1 2 3]\n",
      "Flatten the array using ravel:\n",
      "[1 2 3 2 4 5 1 2 3]\n"
     ]
    }
   ],
   "source": [
    "#Flatten the NumPy arr: array1 = np.array([[1, 2, 3], [2, 4, 5], [1, 2, 3]]) using any two NumPy in-built methods \n",
    "array1 = np.array([[1, 2, 3], [2, 4, 5], [1, 2, 3]])\n",
    "print(\"Original array:\")\n",
    "print(array1)\n",
    "print(\"Flatten the array:\")\n",
    "print(array1.flatten())\n",
    "print(\"Flatten the array using ravel:\")\n",
    "print(array1.ravel())\n"
   ]
  },
  {
   "cell_type": "code",
   "execution_count": 5,
   "metadata": {},
   "outputs": [
    {
     "name": "stdout",
     "output_type": "stream",
     "text": [
      "arr1 == arr2\n",
      "[[ True  True]\n",
      " [ True  True]]\n"
     ]
    }
   ],
   "source": [
    "#Compare the following numpy arrays: \n",
    "#arr1 = np.array([[1, 2], [3, 4]]) \n",
    "#arr2 = np.array([[1, 2], [3, 4]]) \n",
    "arr1 = np.array([[1, 2], [3, 4]]) \n",
    "arr2 = np.array([[1, 2], [3, 4]])\n",
    "print(\"arr1 == arr2\")\n",
    "print(arr1 == arr2)\n"
   ]
  },
  {
   "cell_type": "code",
   "execution_count": 6,
   "metadata": {},
   "outputs": [
    {
     "name": "stdout",
     "output_type": "stream",
     "text": [
      "Most frequent value in x is:  1\n",
      "Most frequent value in y is:  1\n"
     ]
    }
   ],
   "source": [
    "#Find the most frequent value and their indice(s) in the following arrays: \n",
    "#i.  x = np.array([1,2,3,4,5,1,2,1,1,1]) \n",
    "#ii.  y = np.array([1, 1, 1, 2, 3, 4, 2, 4, 3, 3, ]) \n",
    "x = np.array([1,2,3,4,5,1,2,1,1,1]) \n",
    "print(\"Most frequent value in x is: \", np.bincount(x).argmax())\n",
    "y = np.array([1, 1, 1, 2, 3, 4, 2, 4, 3, 3, ])\n",
    "print(\"Most frequent value in y is: \", np.bincount(y).argmax())\n"
   ]
  },
  {
   "cell_type": "code",
   "execution_count": 7,
   "metadata": {},
   "outputs": [
    {
     "name": "stdout",
     "output_type": "stream",
     "text": [
      "Sum of all elements:  45\n",
      "Sum of all elements row-wise:  [[14]\n",
      " [16]\n",
      " [15]]\n",
      "Sum of all elements column-wise:  [[20  9 16]]\n"
     ]
    }
   ],
   "source": [
    "#For the array gfg = np.matrix('[4, 1, 9; 12, 3, 1; 4, 5, 6]'), find \n",
    "#i.  Sum of all elements \n",
    "#ii.  Sum of all elements row-wise  \n",
    "#iii.  Sum of all elements column-wise\n",
    "gfg = np.matrix('[4, 1, 9; 12, 3, 1; 4, 5, 6]')\n",
    "print(\"Sum of all elements: \", np.sum(gfg))\n",
    "print(\"Sum of all elements row-wise: \", np.sum(gfg, axis=1))\n",
    "print(\"Sum of all elements column-wise: \", np.sum(gfg, axis=0))"
   ]
  },
  {
   "cell_type": "code",
   "execution_count": 8,
   "metadata": {},
   "outputs": [
    {
     "name": "stdout",
     "output_type": "stream",
     "text": [
      "Matrix is: \n",
      " [[55 25 15]\n",
      " [30 44  2]\n",
      " [11 45 77]]\n",
      "Sum of diagonal elements is:  176\n",
      "Eigen values of matrix is:  [98.16835147 28.097044   49.73460452]\n",
      "Eigen vectors of matrix is:  (array([98.16835147, 28.097044  , 49.73460452]), array([[ 0.4574917 ,  0.34637121, -0.15017693],\n",
      "       [ 0.28447814, -0.72784061, -0.4852124 ],\n",
      "       [ 0.84248058,  0.59184038,  0.8614034 ]]))\n",
      "Inverse of matrix is: \n",
      " [[ 0.02404141 -0.00911212 -0.00444671]\n",
      " [-0.01667882  0.02966905  0.0024785 ]\n",
      " [ 0.00631287 -0.01603732  0.01217379]]\n",
      "Determinant of matrix is:  137180.0000000001\n"
     ]
    }
   ],
   "source": [
    "#For the matrix: n_array = np.array([[55, 25, 15],[30, 44, 2],[11, 45, 77]]), find \n",
    "# i.  Sum of diagonal elements \n",
    "# ii.  Eigen values of matrix \n",
    "# iii.  Eigen vectors of matrix \n",
    "# iv.  Inverse of matrix \n",
    "# v.  Determinant of matrix\n",
    "n_array = np.array([[55, 25, 15],[30, 44, 2],[11, 45, 77]])\n",
    "print(\"Matrix is: \\n\",n_array)\n",
    "print(\"Sum of diagonal elements is: \",np.trace(n_array))\n",
    "print(\"Eigen values of matrix is: \",np.linalg.eigvals(n_array))\n",
    "print(\"Eigen vectors of matrix is: \",np.linalg.eig(n_array))\n",
    "print(\"Inverse of matrix is: \\n\",np.linalg.inv(n_array))\n",
    "print(\"Determinant of matrix is: \",np.linalg.det(n_array))"
   ]
  },
  {
   "cell_type": "code",
   "execution_count": 10,
   "metadata": {},
   "outputs": [
    {
     "name": "stdout",
     "output_type": "stream",
     "text": [
      "Multiplication of matrices p and q is:  [[16 19]\n",
      " [26 31]]\n",
      "Covariance of matrices p and q is:  [[0.5 0.5 0.5 0.5]\n",
      " [0.5 0.5 0.5 0.5]\n",
      " [0.5 0.5 0.5 0.5]\n",
      " [0.5 0.5 0.5 0.5]]\n",
      "Multiplication of matrices p and q is:  [[16 19  5]\n",
      " [26 31  8]\n",
      " [46 55 14]]\n"
     ]
    }
   ],
   "source": [
    "# Multiply the following matrices and also find covariance between matrices using NumPy: \n",
    "# i.  p = [[1, 2], [2, 3]] \n",
    "#     q = [[4, 5], [6, 7]] \n",
    "# ii. p = [[1, 2], [2, 3], [4, 5]] \n",
    "#     q = [[4, 5, 1], [6, 7, 2]] \n",
    "\n",
    "p1 = [[1, 2], [2, 3]]\n",
    "q1 = [[4, 5], [6, 7]]\n",
    "print(\"Multiplication of matrices p and q is: \",np.matmul(p1,q1))\n",
    "print(\"Covariance of matrices p and q is: \",np.cov(p1,q1))\n",
    "\n",
    "p2 = [[1, 2], [2, 3], [4, 5]]\n",
    "q2 = [[4, 5, 1], [6, 7, 2]]\n",
    "print(\"Multiplication of matrices p and q is: \",np.matmul(p2,q2))\n",
    "# print(\"Covariance of matrices p and q is: \",np.cov(p2,q2))"
   ]
  },
  {
   "cell_type": "code",
   "execution_count": 13,
   "metadata": {},
   "outputs": [
    {
     "name": "stdout",
     "output_type": "stream",
     "text": [
      "Inner product:  [[17 52]\n",
      " [13 62]]\n",
      "Outer product:  [[ 2 10  0 10 20  6]\n",
      " [ 3 15  0 15 30  9]\n",
      " [ 4 20  0 20 40 12]\n",
      " [ 3 15  0 15 30  9]\n",
      " [ 2 10  0 10 20  6]\n",
      " [ 9 45  0 45 90 27]]\n",
      "Cartesian product: \n",
      "[[ 2  1]\n",
      " [ 3  1]\n",
      " [ 4  1]\n",
      " [ 3  1]\n",
      " [ 2  1]\n",
      " [ 9  1]\n",
      " [ 2  5]\n",
      " [ 3  5]\n",
      " [ 4  5]\n",
      " [ 3  5]\n",
      " [ 2  5]\n",
      " [ 9  5]\n",
      " [ 2  0]\n",
      " [ 3  0]\n",
      " [ 4  0]\n",
      " [ 3  0]\n",
      " [ 2  0]\n",
      " [ 9  0]\n",
      " [ 2  5]\n",
      " [ 3  5]\n",
      " [ 4  5]\n",
      " [ 3  5]\n",
      " [ 2  5]\n",
      " [ 9  5]\n",
      " [ 2 10]\n",
      " [ 3 10]\n",
      " [ 4 10]\n",
      " [ 3 10]\n",
      " [ 2 10]\n",
      " [ 9 10]\n",
      " [ 2  3]\n",
      " [ 3  3]\n",
      " [ 4  3]\n",
      " [ 3  3]\n",
      " [ 2  3]\n",
      " [ 9  3]]\n"
     ]
    }
   ],
   "source": [
    "# For the matrices: x = np.array([[2, 3, 4], [3, 2, 9]]); y = np.array([[1, 5, 0], [5, 10, 3]]), \n",
    "# find inner, outer and cartesian product?\n",
    "x = np.array([[2, 3, 4], [3, 2, 9]])\n",
    "y = np.array([[1, 5, 0], [5, 10, 3]])\n",
    "print(\"Inner product: \", np.inner(x, y))\n",
    "print(\"Outer product: \", np.outer(x, y))\n",
    "print(\"Cartesian product: \")\n",
    "x_mesh, y_mesh = np.meshgrid(x, y)\n",
    "cartesian_product = np.stack((x_mesh.ravel(), y_mesh.ravel()), axis=-1)\n",
    "print(cartesian_product)\n"
   ]
  },
  {
   "cell_type": "code",
   "execution_count": 17,
   "metadata": {},
   "outputs": [
    {
     "name": "stdout",
     "output_type": "stream",
     "text": [
      "Absolute array:\n",
      " [[1 2 3]\n",
      " [4 5 6]]\n",
      "25th percentile of array:\n",
      " -3.5\n",
      "50th percentile of array:\n",
      " -0.5\n",
      "75th percentile of array:\n",
      " 2.5\n",
      "Mean of array:\n",
      " -0.5\n",
      "Median of array:\n",
      " -0.5\n",
      "Standard deviation of array:\n",
      " 3.8622100754188224\n"
     ]
    }
   ],
   "source": [
    "# For the array: array = np.array([[1, -2, 3],[-4, 5, -6]]) \n",
    "# i.  Find element-wise absolute value \n",
    "# ii.  Find the 25th, 50th, and 75th percentile of flattened array, for each column, for each \n",
    "# row. \n",
    "# iii.  Mean, Median and Standard Deviation of flattened array, of each column, and \n",
    "# each row\n",
    "array = np.array([[1, -2, 3],[-4, 5, -6]])\n",
    "print(\"Absolute array:\\n\",np.absolute(array))\n",
    "print(\"25th percentile of array:\\n\",np.percentile(array,25))\n",
    "print(\"50th percentile of array:\\n\",np.percentile(array,50))\n",
    "print(\"75th percentile of array:\\n\",np.percentile(array,75))\n",
    "print(\"Mean of array:\\n\",np.mean(array.flatten()))\n",
    "print(\"Median of array:\\n\",np.median(array.flatten()))\n",
    "print(\"Standard deviation of array:\\n\",np.std(array.flatten()))"
   ]
  },
  {
   "cell_type": "code",
   "execution_count": 18,
   "metadata": {},
   "outputs": [
    {
     "name": "stdout",
     "output_type": "stream",
     "text": [
      "Floor value of a:  [-2. -2. -1.  0.  1.  1.  3.]\n",
      "Ceiling value of a:  [-1. -1. -0.  1.  2.  2.  3.]\n",
      "Truncated value of a:  [-1. -1. -0.  0.  1.  1.  3.]\n",
      "Rounded value of a:  [-2. -2. -0.  0.  2.  2.  3.]\n"
     ]
    }
   ],
   "source": [
    "# For the array: a = np.array([-1.8, -1.6, -0.5, 0.5,1.6, 1.8, 3.0]). Find floor, ceiling \n",
    "# and truncated value, rounded values\n",
    "a = np.array([-1.8, -1.6, -0.5, 0.5,1.6, 1.8, 3.0])\n",
    "print(\"Floor value of a: \", np.floor(a))\n",
    "print(\"Ceiling value of a: \", np.ceil(a))\n",
    "print(\"Truncated value of a: \", np.trunc(a))\n",
    "print(\"Rounded value of a: \", np.round(a))"
   ]
  },
  {
   "cell_type": "code",
   "execution_count": 25,
   "metadata": {},
   "outputs": [
    {
     "name": "stdout",
     "output_type": "stream",
     "text": [
      "Sorted array: [ 10  16  16  52  54  62 453]\n",
      "Indices of sorted array: [0 3 4 1 5 2 6]\n",
      "4 smallest elements: [10 16 16 52]\n",
      "5 largest elements: [453  62  54  52  16]\n"
     ]
    }
   ],
   "source": [
    "# For the array: array = np.array([10, 52, 62, 16, 16, 54, 453]), find \n",
    "# i.  Sorted array \n",
    "# ii.  Indices of sorted array \n",
    "# iii.  4 smallest elements \n",
    "# iv.  5 largest elements\n",
    "array = np.array([10, 52, 62, 16, 16, 54, 453])\n",
    "print(\"Sorted array:\", np.sort(array))\n",
    "print(\"Indices of sorted array:\", np.argsort(array))\n",
    "print(\"4 smallest elements:\", np.sort(array)[:4])\n",
    "a = np.sort(array)[-5:]\n",
    "print(\"5 largest elements:\", a[::-1])"
   ]
  },
  {
   "cell_type": "code",
   "execution_count": 27,
   "metadata": {},
   "outputs": [
    {
     "name": "stdout",
     "output_type": "stream",
     "text": [
      "Integer elements only:  [1. 2. 3. 2.]\n",
      "Float elements only:  [1.2 2.2]\n"
     ]
    }
   ],
   "source": [
    "# For the array: array = np.array([1.0, 1.2, 2.2, 2.0, 3.0, 2.0]), find \n",
    "# i.  Integer elements only \n",
    "# ii.  Float elements only\n",
    "array = np.array([1.0, 1.2, 2.2, 2.0, 3.0, 2.0])\n",
    "int_elem = array[array.astype(int) == array]\n",
    "float_elem = array[array.astype(int) != array]\n",
    "print(\"Integer elements only: \", int_elem)\n",
    "print(\"Float elements only: \", float_elem)"
   ]
  },
  {
   "cell_type": "code",
   "execution_count": 34,
   "metadata": {},
   "outputs": [],
   "source": [
    "# Write a function named img_to_array(path) that reads an image from a specified path and \n",
    "# save it as text file on local machine? (Note: use separate cases for RGB and Grey Scale \n",
    "# images)\n",
    "def img_to_path(path):\n",
    "    image  = Image.open(path)\n",
    "    img_array = np.array(image)\n",
    "    height, width, channel = img_array.shape[:2]\n",
    "    if len(img_array.shape) == 2:\n",
    "         # Grayscale image case\n",
    "        output_filename = \"grayscale_array.txt\"\n",
    "        np.savetxt(output_filename, img_array, fmt='%d')\n",
    "        print(f\"Grayscale image array saved as {output_filename}\")\n",
    "    elif len(img_array.shape) == 3 and img_array.shape[2] == 3:\n",
    "        # RGB image case\n",
    "        output_filename = \"rgb_array.txt\"\n",
    "        np.savetxt(output_filename, img_array.reshape(-1, 3), fmt='%d')\n",
    "        print(f\"RGB image array saved as {output_filename}\")\n",
    "    else:\n",
    "        print(\"Unsupported image format.\")"
   ]
  },
  {
   "cell_type": "code",
   "execution_count": null,
   "metadata": {},
   "outputs": [],
   "source": [
    "    "
   ]
  }
 ],
 "metadata": {
  "kernelspec": {
   "display_name": "Python 3",
   "language": "python",
   "name": "python3"
  },
  "language_info": {
   "codemirror_mode": {
    "name": "ipython",
    "version": 3
   },
   "file_extension": ".py",
   "mimetype": "text/x-python",
   "name": "python",
   "nbconvert_exporter": "python",
   "pygments_lexer": "ipython3",
   "version": "3.9.13"
  },
  "orig_nbformat": 4
 },
 "nbformat": 4,
 "nbformat_minor": 2
}
